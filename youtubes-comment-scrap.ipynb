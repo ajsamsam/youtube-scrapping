{
 "cells": [
  {
   "cell_type": "code",
   "execution_count": 4,
   "metadata": {},
   "outputs": [],
   "source": [
    "from selenium.webdriver import Chrome\n",
    "from selenium.webdriver.support.ui import WebDriverWait\n",
    "from selenium.webdriver.support import expected_conditions as EC\n",
    "from selenium.webdriver.common.by import By\n",
    "from selenium.webdriver.common.keys import Keys\n",
    "import time\n",
    "import pandas as pd\n",
    "from selenium import webdriver"
   ]
  },
  {
   "cell_type": "code",
   "execution_count": 3,
   "metadata": {},
   "outputs": [
    {
     "ename": "NameError",
     "evalue": "name 'Chrome' is not defined",
     "output_type": "error",
     "traceback": [
      "\u001b[1;31m---------------------------------------------------------------------------\u001b[0m",
      "\u001b[1;31mNameError\u001b[0m                                 Traceback (most recent call last)",
      "Cell \u001b[1;32mIn[3], line 9\u001b[0m\n\u001b[0;32m      6\u001b[0m \u001b[39m# Initialize web driver (Chrome in this example)\u001b[39;00m\n\u001b[0;32m      7\u001b[0m data\u001b[39m=\u001b[39m[]\n\u001b[1;32m----> 9\u001b[0m \u001b[39mwith\u001b[39;00m Chrome(executable_path\u001b[39m=\u001b[39m\u001b[39mr\u001b[39m\u001b[39m'\u001b[39m\u001b[39mC:\u001b[39m\u001b[39m\\\u001b[39m\u001b[39mProgram Files\u001b[39m\u001b[39m\\\u001b[39m\u001b[39mchromedriver.exe\u001b[39m\u001b[39m'\u001b[39m) \u001b[39mas\u001b[39;00m driver:\n\u001b[0;32m     10\u001b[0m     wait \u001b[39m=\u001b[39m WebDriverWait(driver,\u001b[39m8\u001b[39m)\n\u001b[0;32m     11\u001b[0m     \u001b[39m# Loop through videos and scrape comments\u001b[39;00m\n",
      "\u001b[1;31mNameError\u001b[0m: name 'Chrome' is not defined"
     ]
    }
   ],
   "source": [
    "# List of video URLs to scrape comments from\n",
    "video_urls = ['https://www.youtube.com/watch?v=SGHQuqMH7p8','https://www.youtube.com/watch?v=huxhqphtDrM','https://www.youtube.com/watch?v=YxWlaYCA8MU',\n",
    "              'https://www.youtube.com/watch?v=nDHsBUbivz8','https://www.youtube.com/watch?v=YCFISCBwJNg','https://www.youtube.com/watch?v=4xl9KfUg8Lc',\n",
    "              'https://www.youtube.com/watch?v=vqu4z34wENw']\n",
    "# Initialize web driver (Chrome in this example)\n",
    "data=[]\n",
    "with Chrome(executable_path=r'C:\\Program Files\\chromedriver.exe') as driver:\n",
    "    wait = WebDriverWait(driver,8)\n",
    "    # Loop through videos and scrape comments\n",
    "    for video_url in video_urls:\n",
    "        driver.get(video_url)\n",
    "        for item in range(100): \n",
    "            wait.until(EC.visibility_of_element_located((By.TAG_NAME, \"body\"))).send_keys(Keys.END)\n",
    "            time.sleep(8)\n",
    "        for comment in wait.until(EC.presence_of_all_elements_located((By.CSS_SELECTOR, \"#content\"))):\n",
    "            data.append(comment.text)\n",
    "# Save comments to CSV file\n",
    "comments_df = pd.DataFrame(data, columns=['comment'])\n",
    "comments_df.to_csv('youtube_comments1.csv', index=False)\n",
    "comments_df.to_json(\"youtube_comments1.json\" )\n",
    "# Close web driver\n",
    "driver.quit()\n"
   ]
  }
 ],
 "metadata": {
  "kernelspec": {
   "display_name": "Python 3",
   "language": "python",
   "name": "python3"
  },
  "language_info": {
   "codemirror_mode": {
    "name": "ipython",
    "version": 3
   },
   "file_extension": ".py",
   "mimetype": "text/x-python",
   "name": "python",
   "nbconvert_exporter": "python",
   "pygments_lexer": "ipython3",
   "version": "3.10.1"
  },
  "orig_nbformat": 4,
  "vscode": {
   "interpreter": {
    "hash": "5da118bdeb2ae7876dfed2fa8579af5fa81de2ad446e47bde55f7f0ac09cd8fa"
   }
  }
 },
 "nbformat": 4,
 "nbformat_minor": 2
}
